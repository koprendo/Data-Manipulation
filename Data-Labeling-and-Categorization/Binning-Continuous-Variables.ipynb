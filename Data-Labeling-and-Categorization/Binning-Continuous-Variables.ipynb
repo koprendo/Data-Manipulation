{
 "cells": [
  {
   "cell_type": "markdown",
   "id": "bc22b6c5",
   "metadata": {},
   "source": [
    "This notebook aims to categorize a continuous variable into specific intervals."
   ]
  },
  {
   "cell_type": "code",
   "execution_count": 1,
   "id": "d9b421bf",
   "metadata": {
    "ExecuteTime": {
     "end_time": "2025-01-21T14:19:42.806724Z",
     "start_time": "2025-01-21T14:19:42.352270Z"
    }
   },
   "outputs": [],
   "source": [
    "import pandas as pd\n",
    "import numpy as np"
   ]
  },
  {
   "cell_type": "markdown",
   "id": "bd81af5b",
   "metadata": {},
   "source": [
    "Here are the versions of the libraries I am using:"
   ]
  },
  {
   "cell_type": "code",
   "execution_count": 2,
   "id": "363b73d4",
   "metadata": {
    "ExecuteTime": {
     "end_time": "2025-01-21T14:19:43.843502Z",
     "start_time": "2025-01-21T14:19:43.840820Z"
    }
   },
   "outputs": [
    {
     "name": "stdout",
     "output_type": "stream",
     "text": [
      "Pandas Version: 2.2.2 \n",
      "Numpy Version: 1.24.3\n"
     ]
    }
   ],
   "source": [
    "print('Pandas Version:', pd.__version__, \n",
    "      '\\nNumpy Version:', np.__version__)"
   ]
  },
  {
   "cell_type": "markdown",
   "id": "77c2bbb8",
   "metadata": {},
   "source": [
    "Let's create a DataFrame consisting of a column: Floats.\n",
    "- **Floats:** Contains `1,000` values drawn from a standard normal distribution."
   ]
  },
  {
   "cell_type": "code",
   "execution_count": 3,
   "id": "4188b1cd",
   "metadata": {
    "ExecuteTime": {
     "end_time": "2025-01-21T14:19:44.838853Z",
     "start_time": "2025-01-21T14:19:44.825691Z"
    }
   },
   "outputs": [
    {
     "data": {
      "text/html": [
       "<div>\n",
       "<style scoped>\n",
       "    .dataframe tbody tr th:only-of-type {\n",
       "        vertical-align: middle;\n",
       "    }\n",
       "\n",
       "    .dataframe tbody tr th {\n",
       "        vertical-align: top;\n",
       "    }\n",
       "\n",
       "    .dataframe thead th {\n",
       "        text-align: right;\n",
       "    }\n",
       "</style>\n",
       "<table border=\"1\" class=\"dataframe\">\n",
       "  <thead>\n",
       "    <tr style=\"text-align: right;\">\n",
       "      <th></th>\n",
       "      <th>Floats</th>\n",
       "    </tr>\n",
       "  </thead>\n",
       "  <tbody>\n",
       "    <tr>\n",
       "      <th>0</th>\n",
       "      <td>-0.773170</td>\n",
       "    </tr>\n",
       "    <tr>\n",
       "      <th>1</th>\n",
       "      <td>1.514150</td>\n",
       "    </tr>\n",
       "    <tr>\n",
       "      <th>2</th>\n",
       "      <td>-0.121042</td>\n",
       "    </tr>\n",
       "  </tbody>\n",
       "</table>\n",
       "</div>"
      ],
      "text/plain": [
       "     Floats\n",
       "0 -0.773170\n",
       "1  1.514150\n",
       "2 -0.121042"
      ]
     },
     "execution_count": 3,
     "metadata": {},
     "output_type": "execute_result"
    }
   ],
   "source": [
    "# Create the DataFrame\n",
    "df = pd.DataFrame({\n",
    "    'Floats': np.random.randn(1000)\n",
    "})\n",
    "\n",
    "# Display the first 3 rows of the DataFrame\n",
    "df.head(3) "
   ]
  },
  {
   "cell_type": "markdown",
   "id": "bbdc6f42",
   "metadata": {
    "ExecuteTime": {
     "end_time": "2025-01-20T14:00:23.588614Z",
     "start_time": "2025-01-20T14:00:23.581561Z"
    }
   },
   "source": [
    "Let's review descriptive statistics for the`Floats`, transposed for better readability."
   ]
  },
  {
   "cell_type": "code",
   "execution_count": 4,
   "id": "466bd43a",
   "metadata": {
    "ExecuteTime": {
     "end_time": "2025-01-21T14:19:46.242107Z",
     "start_time": "2025-01-21T14:19:46.231542Z"
    }
   },
   "outputs": [
    {
     "data": {
      "text/html": [
       "<div>\n",
       "<style scoped>\n",
       "    .dataframe tbody tr th:only-of-type {\n",
       "        vertical-align: middle;\n",
       "    }\n",
       "\n",
       "    .dataframe tbody tr th {\n",
       "        vertical-align: top;\n",
       "    }\n",
       "\n",
       "    .dataframe thead th {\n",
       "        text-align: right;\n",
       "    }\n",
       "</style>\n",
       "<table border=\"1\" class=\"dataframe\">\n",
       "  <thead>\n",
       "    <tr style=\"text-align: right;\">\n",
       "      <th></th>\n",
       "      <th>count</th>\n",
       "      <th>mean</th>\n",
       "      <th>std</th>\n",
       "      <th>min</th>\n",
       "      <th>25%</th>\n",
       "      <th>50%</th>\n",
       "      <th>75%</th>\n",
       "      <th>max</th>\n",
       "    </tr>\n",
       "  </thead>\n",
       "  <tbody>\n",
       "    <tr>\n",
       "      <th>Floats</th>\n",
       "      <td>1000.0</td>\n",
       "      <td>-0.0071</td>\n",
       "      <td>1.014145</td>\n",
       "      <td>-2.714057</td>\n",
       "      <td>-0.667897</td>\n",
       "      <td>-0.034432</td>\n",
       "      <td>0.670126</td>\n",
       "      <td>3.329568</td>\n",
       "    </tr>\n",
       "  </tbody>\n",
       "</table>\n",
       "</div>"
      ],
      "text/plain": [
       "         count    mean       std       min       25%       50%       75%  \\\n",
       "Floats  1000.0 -0.0071  1.014145 -2.714057 -0.667897 -0.034432  0.670126   \n",
       "\n",
       "             max  \n",
       "Floats  3.329568  "
      ]
     },
     "execution_count": 4,
     "metadata": {},
     "output_type": "execute_result"
    }
   ],
   "source": [
    "df.describe().T"
   ]
  },
  {
   "cell_type": "markdown",
   "id": "5e892641",
   "metadata": {},
   "source": [
    "With the **custom_transform** function we'll categorize values from the `Floats` column into predefined ranges like `>3`, `>2`, and `<-1` using if-elif statements."
   ]
  },
  {
   "cell_type": "code",
   "execution_count": 5,
   "id": "a3d4a83c",
   "metadata": {
    "ExecuteTime": {
     "end_time": "2025-01-21T14:19:47.572904Z",
     "start_time": "2025-01-21T14:19:47.568745Z"
    }
   },
   "outputs": [],
   "source": [
    "def custom_transform(row):\n",
    "    if row['Floats'] > 3: \n",
    "        return '>3'\n",
    "    elif row['Floats'] > 2: \n",
    "        return '>2'\n",
    "    elif row['Floats'] > 1: \n",
    "        return '>1'\n",
    "    elif row['Floats'] > 0: \n",
    "        return '>0'\n",
    "    elif row['Floats'] < -3: \n",
    "        return '<-3'\n",
    "    elif row['Floats'] < -2: \n",
    "        return '<-2'\n",
    "    elif row['Floats'] < -1:\n",
    "        return '<-1'\n",
    "    elif row['Floats'] < 0: \n",
    "        return '<0'\n",
    "    else: \n",
    "        return 'ZERO'"
   ]
  },
  {
   "cell_type": "markdown",
   "id": "6720d788",
   "metadata": {},
   "source": [
    "We'll apply the **custom_transform** function to each row of the `df` and create a new column called `Category` with the results."
   ]
  },
  {
   "cell_type": "code",
   "execution_count": 6,
   "id": "1f98d7c7",
   "metadata": {
    "ExecuteTime": {
     "end_time": "2025-01-21T14:19:50.007207Z",
     "start_time": "2025-01-21T14:19:49.989333Z"
    }
   },
   "outputs": [],
   "source": [
    "df['Category'] = df.apply(custom_transform, axis=1)"
   ]
  },
  {
   "cell_type": "code",
   "execution_count": 7,
   "id": "97e6b32a",
   "metadata": {
    "ExecuteTime": {
     "end_time": "2025-01-21T14:19:53.922744Z",
     "start_time": "2025-01-21T14:19:53.886088Z"
    }
   },
   "outputs": [
    {
     "data": {
      "text/html": [
       "<div>\n",
       "<style scoped>\n",
       "    .dataframe tbody tr th:only-of-type {\n",
       "        vertical-align: middle;\n",
       "    }\n",
       "\n",
       "    .dataframe tbody tr th {\n",
       "        vertical-align: top;\n",
       "    }\n",
       "\n",
       "    .dataframe thead th {\n",
       "        text-align: right;\n",
       "    }\n",
       "</style>\n",
       "<table border=\"1\" class=\"dataframe\">\n",
       "  <thead>\n",
       "    <tr style=\"text-align: right;\">\n",
       "      <th></th>\n",
       "      <th></th>\n",
       "      <th>count</th>\n",
       "      <th>mean</th>\n",
       "      <th>std</th>\n",
       "      <th>min</th>\n",
       "      <th>25%</th>\n",
       "      <th>50%</th>\n",
       "      <th>75%</th>\n",
       "      <th>max</th>\n",
       "    </tr>\n",
       "    <tr>\n",
       "      <th></th>\n",
       "      <th>Category</th>\n",
       "      <th></th>\n",
       "      <th></th>\n",
       "      <th></th>\n",
       "      <th></th>\n",
       "      <th></th>\n",
       "      <th></th>\n",
       "      <th></th>\n",
       "      <th></th>\n",
       "    </tr>\n",
       "  </thead>\n",
       "  <tbody>\n",
       "    <tr>\n",
       "      <th rowspan=\"7\" valign=\"top\">Floats</th>\n",
       "      <th>&lt;-1</th>\n",
       "      <td>139.0</td>\n",
       "      <td>-1.393177</td>\n",
       "      <td>0.251087</td>\n",
       "      <td>-1.965988</td>\n",
       "      <td>-1.572732</td>\n",
       "      <td>-1.373747</td>\n",
       "      <td>-1.187195</td>\n",
       "      <td>-1.005093</td>\n",
       "    </tr>\n",
       "    <tr>\n",
       "      <th>&lt;-2</th>\n",
       "      <td>26.0</td>\n",
       "      <td>-2.273333</td>\n",
       "      <td>0.208688</td>\n",
       "      <td>-2.714057</td>\n",
       "      <td>-2.353816</td>\n",
       "      <td>-2.265000</td>\n",
       "      <td>-2.100370</td>\n",
       "      <td>-2.005605</td>\n",
       "    </tr>\n",
       "    <tr>\n",
       "      <th>&lt;0</th>\n",
       "      <td>341.0</td>\n",
       "      <td>-0.463998</td>\n",
       "      <td>0.270254</td>\n",
       "      <td>-0.992686</td>\n",
       "      <td>-0.667807</td>\n",
       "      <td>-0.423468</td>\n",
       "      <td>-0.248239</td>\n",
       "      <td>-0.008600</td>\n",
       "    </tr>\n",
       "    <tr>\n",
       "      <th>&gt;0</th>\n",
       "      <td>334.0</td>\n",
       "      <td>0.474242</td>\n",
       "      <td>0.279538</td>\n",
       "      <td>0.004202</td>\n",
       "      <td>0.237195</td>\n",
       "      <td>0.475182</td>\n",
       "      <td>0.696317</td>\n",
       "      <td>0.997641</td>\n",
       "    </tr>\n",
       "    <tr>\n",
       "      <th>&gt;1</th>\n",
       "      <td>131.0</td>\n",
       "      <td>1.350210</td>\n",
       "      <td>0.268824</td>\n",
       "      <td>1.001577</td>\n",
       "      <td>1.146281</td>\n",
       "      <td>1.284686</td>\n",
       "      <td>1.499861</td>\n",
       "      <td>1.991024</td>\n",
       "    </tr>\n",
       "    <tr>\n",
       "      <th>&gt;2</th>\n",
       "      <td>26.0</td>\n",
       "      <td>2.271703</td>\n",
       "      <td>0.236164</td>\n",
       "      <td>2.015028</td>\n",
       "      <td>2.062529</td>\n",
       "      <td>2.199505</td>\n",
       "      <td>2.431310</td>\n",
       "      <td>2.847408</td>\n",
       "    </tr>\n",
       "    <tr>\n",
       "      <th>&gt;3</th>\n",
       "      <td>3.0</td>\n",
       "      <td>3.180913</td>\n",
       "      <td>0.129236</td>\n",
       "      <td>3.095261</td>\n",
       "      <td>3.106585</td>\n",
       "      <td>3.117910</td>\n",
       "      <td>3.223739</td>\n",
       "      <td>3.329568</td>\n",
       "    </tr>\n",
       "  </tbody>\n",
       "</table>\n",
       "</div>"
      ],
      "text/plain": [
       "                 count      mean       std       min       25%       50%  \\\n",
       "       Category                                                            \n",
       "Floats <-1       139.0 -1.393177  0.251087 -1.965988 -1.572732 -1.373747   \n",
       "       <-2        26.0 -2.273333  0.208688 -2.714057 -2.353816 -2.265000   \n",
       "       <0        341.0 -0.463998  0.270254 -0.992686 -0.667807 -0.423468   \n",
       "       >0        334.0  0.474242  0.279538  0.004202  0.237195  0.475182   \n",
       "       >1        131.0  1.350210  0.268824  1.001577  1.146281  1.284686   \n",
       "       >2         26.0  2.271703  0.236164  2.015028  2.062529  2.199505   \n",
       "       >3          3.0  3.180913  0.129236  3.095261  3.106585  3.117910   \n",
       "\n",
       "                      75%       max  \n",
       "       Category                      \n",
       "Floats <-1      -1.187195 -1.005093  \n",
       "       <-2      -2.100370 -2.005605  \n",
       "       <0       -0.248239 -0.008600  \n",
       "       >0        0.696317  0.997641  \n",
       "       >1        1.499861  1.991024  \n",
       "       >2        2.431310  2.847408  \n",
       "       >3        3.223739  3.329568  "
      ]
     },
     "execution_count": 7,
     "metadata": {},
     "output_type": "execute_result"
    }
   ],
   "source": [
    "df.pivot(columns='Category').describe().T"
   ]
  },
  {
   "cell_type": "markdown",
   "id": "58751d3b",
   "metadata": {},
   "source": [
    "Alternative: pd.cut"
   ]
  },
  {
   "cell_type": "code",
   "execution_count": null,
   "id": "719a3d8a",
   "metadata": {},
   "outputs": [],
   "source": []
  }
 ],
 "metadata": {
  "hide_input": false,
  "kernelspec": {
   "display_name": "analitik-crm",
   "language": "python",
   "name": "analitik-crm"
  },
  "language_info": {
   "codemirror_mode": {
    "name": "ipython",
    "version": 3
   },
   "file_extension": ".py",
   "mimetype": "text/x-python",
   "name": "python",
   "nbconvert_exporter": "python",
   "pygments_lexer": "ipython3",
   "version": "3.9.16"
  },
  "toc": {
   "base_numbering": 1,
   "nav_menu": {},
   "number_sections": true,
   "sideBar": true,
   "skip_h1_title": false,
   "title_cell": "Table of Contents",
   "title_sidebar": "Contents",
   "toc_cell": false,
   "toc_position": {},
   "toc_section_display": true,
   "toc_window_display": false
  },
  "varInspector": {
   "cols": {
    "lenName": 16,
    "lenType": 16,
    "lenVar": 40
   },
   "kernels_config": {
    "python": {
     "delete_cmd_postfix": "",
     "delete_cmd_prefix": "del ",
     "library": "var_list.py",
     "varRefreshCmd": "print(var_dic_list())"
    },
    "r": {
     "delete_cmd_postfix": ") ",
     "delete_cmd_prefix": "rm(",
     "library": "var_list.r",
     "varRefreshCmd": "cat(var_dic_list()) "
    }
   },
   "types_to_exclude": [
    "module",
    "function",
    "builtin_function_or_method",
    "instance",
    "_Feature"
   ],
   "window_display": false
  }
 },
 "nbformat": 4,
 "nbformat_minor": 5
}
