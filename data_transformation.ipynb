{
 "cells": [
  {
   "cell_type": "code",
   "execution_count": 1,
   "id": "d9b421bf",
   "metadata": {
    "ExecuteTime": {
     "end_time": "2025-01-20T13:13:59.655154Z",
     "start_time": "2025-01-20T13:13:59.349310Z"
    }
   },
   "outputs": [],
   "source": [
    "import pandas as pd\n",
    "import numpy as np"
   ]
  },
  {
   "cell_type": "markdown",
   "id": "bd81af5b",
   "metadata": {},
   "source": [
    "Here are the versions of the libraries I am using:"
   ]
  },
  {
   "cell_type": "code",
   "execution_count": 3,
   "id": "363b73d4",
   "metadata": {
    "ExecuteTime": {
     "end_time": "2025-01-20T13:14:38.635833Z",
     "start_time": "2025-01-20T13:14:38.632435Z"
    }
   },
   "outputs": [
    {
     "name": "stdout",
     "output_type": "stream",
     "text": [
      "Pandas Version: 2.2.2 \n",
      "Numpy Version: 1.24.3\n"
     ]
    }
   ],
   "source": [
    "print('Pandas Version:', pd.__version__, \n",
    "      '\\nNumpy Version:', np.__version__)"
   ]
  },
  {
   "cell_type": "markdown",
   "id": "77c2bbb8",
   "metadata": {},
   "source": [
    "Let's create a DataFrame consisting of a column: Floats.\n",
    "- **Floats:** Contains `1,000` values drawn from a standard normal distribution."
   ]
  },
  {
   "cell_type": "code",
   "execution_count": 4,
   "id": "4188b1cd",
   "metadata": {
    "ExecuteTime": {
     "end_time": "2025-01-20T13:15:09.155488Z",
     "start_time": "2025-01-20T13:15:09.145720Z"
    }
   },
   "outputs": [
    {
     "data": {
      "text/html": [
       "<div>\n",
       "<style scoped>\n",
       "    .dataframe tbody tr th:only-of-type {\n",
       "        vertical-align: middle;\n",
       "    }\n",
       "\n",
       "    .dataframe tbody tr th {\n",
       "        vertical-align: top;\n",
       "    }\n",
       "\n",
       "    .dataframe thead th {\n",
       "        text-align: right;\n",
       "    }\n",
       "</style>\n",
       "<table border=\"1\" class=\"dataframe\">\n",
       "  <thead>\n",
       "    <tr style=\"text-align: right;\">\n",
       "      <th></th>\n",
       "      <th>Floats</th>\n",
       "    </tr>\n",
       "  </thead>\n",
       "  <tbody>\n",
       "    <tr>\n",
       "      <th>0</th>\n",
       "      <td>0.893647</td>\n",
       "    </tr>\n",
       "    <tr>\n",
       "      <th>1</th>\n",
       "      <td>0.644130</td>\n",
       "    </tr>\n",
       "    <tr>\n",
       "      <th>2</th>\n",
       "      <td>-1.083868</td>\n",
       "    </tr>\n",
       "  </tbody>\n",
       "</table>\n",
       "</div>"
      ],
      "text/plain": [
       "     Floats\n",
       "0  0.893647\n",
       "1  0.644130\n",
       "2 -1.083868"
      ]
     },
     "execution_count": 4,
     "metadata": {},
     "output_type": "execute_result"
    }
   ],
   "source": [
    "# Create the DataFrame\n",
    "df = pd.DataFrame({\n",
    "    'Floats': np.random.randn(1000)\n",
    "})\n",
    "\n",
    "# Display the first 3 rows of the DataFrame\n",
    "df.head(3) "
   ]
  },
  {
   "cell_type": "markdown",
   "id": "bbdc6f42",
   "metadata": {
    "ExecuteTime": {
     "end_time": "2025-01-20T14:00:23.588614Z",
     "start_time": "2025-01-20T14:00:23.581561Z"
    }
   },
   "source": [
    "Let's look at descriptive statistics."
   ]
  },
  {
   "cell_type": "code",
   "execution_count": 6,
   "id": "466bd43a",
   "metadata": {
    "ExecuteTime": {
     "end_time": "2025-01-20T13:39:27.667418Z",
     "start_time": "2025-01-20T13:39:27.655684Z"
    }
   },
   "outputs": [
    {
     "data": {
      "text/html": [
       "<div>\n",
       "<style scoped>\n",
       "    .dataframe tbody tr th:only-of-type {\n",
       "        vertical-align: middle;\n",
       "    }\n",
       "\n",
       "    .dataframe tbody tr th {\n",
       "        vertical-align: top;\n",
       "    }\n",
       "\n",
       "    .dataframe thead th {\n",
       "        text-align: right;\n",
       "    }\n",
       "</style>\n",
       "<table border=\"1\" class=\"dataframe\">\n",
       "  <thead>\n",
       "    <tr style=\"text-align: right;\">\n",
       "      <th></th>\n",
       "      <th>count</th>\n",
       "      <th>mean</th>\n",
       "      <th>std</th>\n",
       "      <th>min</th>\n",
       "      <th>25%</th>\n",
       "      <th>50%</th>\n",
       "      <th>75%</th>\n",
       "      <th>max</th>\n",
       "    </tr>\n",
       "  </thead>\n",
       "  <tbody>\n",
       "    <tr>\n",
       "      <th>Floats</th>\n",
       "      <td>1000.0</td>\n",
       "      <td>0.020669</td>\n",
       "      <td>0.99946</td>\n",
       "      <td>-3.586532</td>\n",
       "      <td>-0.663507</td>\n",
       "      <td>-0.002046</td>\n",
       "      <td>0.701838</td>\n",
       "      <td>3.633645</td>\n",
       "    </tr>\n",
       "  </tbody>\n",
       "</table>\n",
       "</div>"
      ],
      "text/plain": [
       "         count      mean      std       min       25%       50%       75%  \\\n",
       "Floats  1000.0  0.020669  0.99946 -3.586532 -0.663507 -0.002046  0.701838   \n",
       "\n",
       "             max  \n",
       "Floats  3.633645  "
      ]
     },
     "execution_count": 6,
     "metadata": {},
     "output_type": "execute_result"
    }
   ],
   "source": [
    "df.describe().T"
   ]
  },
  {
   "cell_type": "code",
   "execution_count": 21,
   "id": "a3d4a83c",
   "metadata": {
    "ExecuteTime": {
     "end_time": "2025-01-20T13:54:09.332955Z",
     "start_time": "2025-01-20T13:54:09.329109Z"
    }
   },
   "outputs": [],
   "source": [
    "def custom_transform(row):\n",
    "    if row['Floats'] > 3: return '>3'\n",
    "    elif row['Floats'] > 2: return '>2'\n",
    "    elif row['Floats'] > 1: return '>1'\n",
    "    elif row['Floats'] > 0: return '>0'\n",
    "    elif row['Floats'] < -3: return '<-3'\n",
    "    elif row['Floats'] < -2: return '<-2'\n",
    "    elif row['Floats'] < -1: return '<-1'\n",
    "    elif row['Floats'] < 0: return '<0'\n",
    "    else: return 'ZERO'"
   ]
  },
  {
   "cell_type": "markdown",
   "id": "6720d788",
   "metadata": {},
   "source": [
    "Apply the custom_transform function to each row"
   ]
  },
  {
   "cell_type": "code",
   "execution_count": 22,
   "id": "1f98d7c7",
   "metadata": {
    "ExecuteTime": {
     "end_time": "2025-01-20T13:54:10.039550Z",
     "start_time": "2025-01-20T13:54:10.018798Z"
    }
   },
   "outputs": [],
   "source": [
    "df['Category'] = df.apply(custom_transform, axis=1)"
   ]
  },
  {
   "cell_type": "code",
   "execution_count": 25,
   "id": "4c75ba52",
   "metadata": {
    "ExecuteTime": {
     "end_time": "2025-01-20T13:54:46.670758Z",
     "start_time": "2025-01-20T13:54:46.666536Z"
    }
   },
   "outputs": [
    {
     "data": {
      "text/plain": [
       "array(['>0', '<-1', '<0', '>1', '>2', '<-2', '>3', '<-3'], dtype=object)"
      ]
     },
     "execution_count": 25,
     "metadata": {},
     "output_type": "execute_result"
    }
   ],
   "source": [
    "df.Category.unique()"
   ]
  },
  {
   "cell_type": "code",
   "execution_count": 34,
   "id": "97e6b32a",
   "metadata": {
    "ExecuteTime": {
     "end_time": "2025-01-20T13:57:28.466583Z",
     "start_time": "2025-01-20T13:57:28.435195Z"
    }
   },
   "outputs": [
    {
     "data": {
      "text/html": [
       "<div>\n",
       "<style scoped>\n",
       "    .dataframe tbody tr th:only-of-type {\n",
       "        vertical-align: middle;\n",
       "    }\n",
       "\n",
       "    .dataframe tbody tr th {\n",
       "        vertical-align: top;\n",
       "    }\n",
       "\n",
       "    .dataframe thead th {\n",
       "        text-align: right;\n",
       "    }\n",
       "</style>\n",
       "<table border=\"1\" class=\"dataframe\">\n",
       "  <thead>\n",
       "    <tr style=\"text-align: right;\">\n",
       "      <th></th>\n",
       "      <th></th>\n",
       "      <th>count</th>\n",
       "      <th>mean</th>\n",
       "      <th>std</th>\n",
       "      <th>min</th>\n",
       "      <th>25%</th>\n",
       "      <th>50%</th>\n",
       "      <th>75%</th>\n",
       "      <th>max</th>\n",
       "    </tr>\n",
       "    <tr>\n",
       "      <th></th>\n",
       "      <th>Category</th>\n",
       "      <th></th>\n",
       "      <th></th>\n",
       "      <th></th>\n",
       "      <th></th>\n",
       "      <th></th>\n",
       "      <th></th>\n",
       "      <th></th>\n",
       "      <th></th>\n",
       "    </tr>\n",
       "  </thead>\n",
       "  <tbody>\n",
       "    <tr>\n",
       "      <th rowspan=\"8\" valign=\"top\">Floats</th>\n",
       "      <th>&lt;-1</th>\n",
       "      <td>126.0</td>\n",
       "      <td>-1.396362</td>\n",
       "      <td>0.285769</td>\n",
       "      <td>-1.992766</td>\n",
       "      <td>-1.649230</td>\n",
       "      <td>-1.322080</td>\n",
       "      <td>-1.147028</td>\n",
       "      <td>-1.002788</td>\n",
       "    </tr>\n",
       "    <tr>\n",
       "      <th>&lt;-2</th>\n",
       "      <td>21.0</td>\n",
       "      <td>-2.250408</td>\n",
       "      <td>0.204066</td>\n",
       "      <td>-2.681007</td>\n",
       "      <td>-2.378140</td>\n",
       "      <td>-2.169285</td>\n",
       "      <td>-2.064110</td>\n",
       "      <td>-2.021492</td>\n",
       "    </tr>\n",
       "    <tr>\n",
       "      <th>&lt;-3</th>\n",
       "      <td>2.0</td>\n",
       "      <td>-3.398177</td>\n",
       "      <td>0.266373</td>\n",
       "      <td>-3.586532</td>\n",
       "      <td>-3.492354</td>\n",
       "      <td>-3.398177</td>\n",
       "      <td>-3.304000</td>\n",
       "      <td>-3.209823</td>\n",
       "    </tr>\n",
       "    <tr>\n",
       "      <th>&lt;0</th>\n",
       "      <td>352.0</td>\n",
       "      <td>-0.453565</td>\n",
       "      <td>0.285500</td>\n",
       "      <td>-0.999576</td>\n",
       "      <td>-0.696570</td>\n",
       "      <td>-0.430061</td>\n",
       "      <td>-0.208010</td>\n",
       "      <td>-0.000293</td>\n",
       "    </tr>\n",
       "    <tr>\n",
       "      <th>&gt;0</th>\n",
       "      <td>325.0</td>\n",
       "      <td>0.469536</td>\n",
       "      <td>0.284942</td>\n",
       "      <td>0.001684</td>\n",
       "      <td>0.219103</td>\n",
       "      <td>0.465097</td>\n",
       "      <td>0.696487</td>\n",
       "      <td>0.992475</td>\n",
       "    </tr>\n",
       "    <tr>\n",
       "      <th>&gt;1</th>\n",
       "      <td>157.0</td>\n",
       "      <td>1.374814</td>\n",
       "      <td>0.261476</td>\n",
       "      <td>1.002326</td>\n",
       "      <td>1.177605</td>\n",
       "      <td>1.306742</td>\n",
       "      <td>1.559829</td>\n",
       "      <td>1.977521</td>\n",
       "    </tr>\n",
       "    <tr>\n",
       "      <th>&gt;2</th>\n",
       "      <td>16.0</td>\n",
       "      <td>2.390098</td>\n",
       "      <td>0.272463</td>\n",
       "      <td>2.034630</td>\n",
       "      <td>2.199533</td>\n",
       "      <td>2.290771</td>\n",
       "      <td>2.608258</td>\n",
       "      <td>2.940748</td>\n",
       "    </tr>\n",
       "    <tr>\n",
       "      <th>&gt;3</th>\n",
       "      <td>1.0</td>\n",
       "      <td>3.633645</td>\n",
       "      <td>NaN</td>\n",
       "      <td>3.633645</td>\n",
       "      <td>3.633645</td>\n",
       "      <td>3.633645</td>\n",
       "      <td>3.633645</td>\n",
       "      <td>3.633645</td>\n",
       "    </tr>\n",
       "  </tbody>\n",
       "</table>\n",
       "</div>"
      ],
      "text/plain": [
       "                 count      mean       std       min       25%       50%  \\\n",
       "       Category                                                            \n",
       "Floats <-1       126.0 -1.396362  0.285769 -1.992766 -1.649230 -1.322080   \n",
       "       <-2        21.0 -2.250408  0.204066 -2.681007 -2.378140 -2.169285   \n",
       "       <-3         2.0 -3.398177  0.266373 -3.586532 -3.492354 -3.398177   \n",
       "       <0        352.0 -0.453565  0.285500 -0.999576 -0.696570 -0.430061   \n",
       "       >0        325.0  0.469536  0.284942  0.001684  0.219103  0.465097   \n",
       "       >1        157.0  1.374814  0.261476  1.002326  1.177605  1.306742   \n",
       "       >2         16.0  2.390098  0.272463  2.034630  2.199533  2.290771   \n",
       "       >3          1.0  3.633645       NaN  3.633645  3.633645  3.633645   \n",
       "\n",
       "                      75%       max  \n",
       "       Category                      \n",
       "Floats <-1      -1.147028 -1.002788  \n",
       "       <-2      -2.064110 -2.021492  \n",
       "       <-3      -3.304000 -3.209823  \n",
       "       <0       -0.208010 -0.000293  \n",
       "       >0        0.696487  0.992475  \n",
       "       >1        1.559829  1.977521  \n",
       "       >2        2.608258  2.940748  \n",
       "       >3        3.633645  3.633645  "
      ]
     },
     "execution_count": 34,
     "metadata": {},
     "output_type": "execute_result"
    }
   ],
   "source": [
    "df.pivot(columns='Category').describe().T"
   ]
  },
  {
   "cell_type": "markdown",
   "id": "58751d3b",
   "metadata": {},
   "source": [
    "Alternative: pd.cut"
   ]
  },
  {
   "cell_type": "code",
   "execution_count": null,
   "id": "719a3d8a",
   "metadata": {},
   "outputs": [],
   "source": []
  }
 ],
 "metadata": {
  "hide_input": false,
  "kernelspec": {
   "display_name": "analitik-crm",
   "language": "python",
   "name": "analitik-crm"
  },
  "language_info": {
   "codemirror_mode": {
    "name": "ipython",
    "version": 3
   },
   "file_extension": ".py",
   "mimetype": "text/x-python",
   "name": "python",
   "nbconvert_exporter": "python",
   "pygments_lexer": "ipython3",
   "version": "3.9.16"
  },
  "toc": {
   "base_numbering": 1,
   "nav_menu": {},
   "number_sections": true,
   "sideBar": true,
   "skip_h1_title": false,
   "title_cell": "Table of Contents",
   "title_sidebar": "Contents",
   "toc_cell": false,
   "toc_position": {},
   "toc_section_display": true,
   "toc_window_display": false
  },
  "varInspector": {
   "cols": {
    "lenName": 16,
    "lenType": 16,
    "lenVar": 40
   },
   "kernels_config": {
    "python": {
     "delete_cmd_postfix": "",
     "delete_cmd_prefix": "del ",
     "library": "var_list.py",
     "varRefreshCmd": "print(var_dic_list())"
    },
    "r": {
     "delete_cmd_postfix": ") ",
     "delete_cmd_prefix": "rm(",
     "library": "var_list.r",
     "varRefreshCmd": "cat(var_dic_list()) "
    }
   },
   "types_to_exclude": [
    "module",
    "function",
    "builtin_function_or_method",
    "instance",
    "_Feature"
   ],
   "window_display": false
  }
 },
 "nbformat": 4,
 "nbformat_minor": 5
}
